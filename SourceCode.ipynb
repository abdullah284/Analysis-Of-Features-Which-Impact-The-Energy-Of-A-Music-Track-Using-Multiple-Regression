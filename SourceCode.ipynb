{
  "nbformat": 4,
  "nbformat_minor": 0,
  "metadata": {
    "colab": {
      "provenance": []
    },
    "kernelspec": {
      "name": "python3",
      "display_name": "Python 3"
    },
    "language_info": {
      "name": "python"
    }
  },
  "cells": [
    {
      "cell_type": "code",
      "execution_count": 1,
      "metadata": {
        "id": "LPxpzJkrz4Ta"
      },
      "outputs": [],
      "source": [
        "import pandas as pd\n",
        "from sklearn.model_selection import train_test_split\n",
        "from sklearn import linear_model\n",
        "from sklearn.metrics import r2_score\n",
        "from sklearn.preprocessing import LabelEncoder\n",
        "\n",
        "\n",
        "df = pd.read_csv(\"MusicData.csv\")\n",
        "\n",
        "label_encoder = LabelEncoder()\n",
        "df['Genre'] = label_encoder.fit_transform(df['Genre']) # LabelEncoder transforms the non-numerical values into numerical labels.\n",
        "\n",
        "\n",
        "X = df[[ 'AmountOfVocals',\"ReverbationTime\",\"Acoustics\",\"Length\",\"Valance\",\"Genre\",\"SoundIntensityDecibels\",\"RhythmicPatterns\",\"AverageBeatsPerMinute\"]]\n",
        "Y = df['EnergyImpact']\n",
        "\n",
        "# Split the dataset into training and testing sets\n",
        "X_train, X_test, Y_train, Y_test = train_test_split(X, Y, test_size=0.2, random_state=42)\n",
        "\n",
        "# Create a linear regression model\n",
        "model = linear_model.LinearRegression()\n",
        "\n",
        "# Fit the model to the training data\n",
        "model.fit(X_train, Y_train)\n",
        "\n",
        "predicted = model.predict(X_test)\n",
        "score=r2_score(Y_test , predicted)\n",
        "print('r2 score is ',score)\n",
        "\n",
        "\n",
        "# r2_score : 0.661\n",
        "\n"
      ]
    }
  ]
}